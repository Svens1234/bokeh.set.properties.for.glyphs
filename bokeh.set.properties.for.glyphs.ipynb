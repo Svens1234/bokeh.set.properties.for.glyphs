{
 "cells": [
  {
   "cell_type": "code",
   "execution_count": 1,
   "id": "a672e830",
   "metadata": {},
   "outputs": [],
   "source": [
    "from bokeh.io import output_file, show\n",
    "from bokeh.plotting import figure"
   ]
  },
  {
   "cell_type": "code",
   "execution_count": 2,
   "id": "a1a73b11",
   "metadata": {},
   "outputs": [],
   "source": [
    "output_file(\"styling_selections.html\")"
   ]
  },
  {
   "cell_type": "code",
   "execution_count": 5,
   "id": "4db8213b",
   "metadata": {},
   "outputs": [],
   "source": [
    "plot = figure(width=400, height=400, tools=\"tap\", title=\"Select a circle\")\n",
    "renderer = plot.circle([1, 2, 3, 4, 5], [2, 5, 8, 2, 7], size=50,\n",
    "                       selection_color=\"firebrick\",\n",
    "                       nonselection_fill_alpha=0.2,\n",
    "                       nonselection_fill_color=\"blue\",\n",
    "                       nonselection_line_color=\"firebrick\",\n",
    "                       nonselection_line_alpha=1.0)"
   ]
  },
  {
   "cell_type": "code",
   "execution_count": 6,
   "id": "f1f40f03",
   "metadata": {},
   "outputs": [],
   "source": [
    "show(plot)"
   ]
  },
  {
   "cell_type": "code",
   "execution_count": null,
   "id": "11fd06c4",
   "metadata": {},
   "outputs": [],
   "source": []
  }
 ],
 "metadata": {
  "kernelspec": {
   "display_name": "Python 3 (ipykernel)",
   "language": "python",
   "name": "python3"
  },
  "language_info": {
   "codemirror_mode": {
    "name": "ipython",
    "version": 3
   },
   "file_extension": ".py",
   "mimetype": "text/x-python",
   "name": "python",
   "nbconvert_exporter": "python",
   "pygments_lexer": "ipython3",
   "version": "3.10.5"
  }
 },
 "nbformat": 4,
 "nbformat_minor": 5
}
